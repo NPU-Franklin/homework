{
 "nbformat": 4,
 "nbformat_minor": 2,
 "metadata": {
  "language_info": {
   "name": "python",
   "codemirror_mode": {
    "name": "ipython",
    "version": 3
   },
   "version": "3.7.4"
  },
  "orig_nbformat": 2,
  "file_extension": ".py",
  "mimetype": "text/x-python",
  "name": "python",
  "npconvert_exporter": "python",
  "pygments_lexer": "ipython3",
  "version": 3
 },
 "cells": [
  {
   "cell_type": "markdown",
   "metadata": {},
   "outputs": [],
   "source": [
    "# Basic Classification Decision System\n",
    "\n",
    "Design to decide whether to use CNN or DNN to predict."
   ]
  },
  {
   "cell_type": "markdown",
   "metadata": {},
   "outputs": [],
   "source": [
    "## 1. Import necessary libraries"
   ]
  },
  {
   "cell_type": "code",
   "metadata": {},
   "outputs": [],
   "source": [
    "print(\"Importing……\")\n",
    "\n",
    "# import Tensorflow and tf.keras\n",
    "import tensorflow as tf\n",
    "from tensorflow import keras\n",
    "from tensorflow.python.keras.layers.normalization import BatchNormalization\n",
    "from tensorflow.python.keras.layers.convolutional import Conv2D, AveragePooling2D, MaxPooling2D, ZeroPadding2D\n",
    "from tensorflow.python.keras.layers.core import Activation, Flatten, Dense, Dropout\n",
    "from tensorflow.python.keras.layers import Input, add\n",
    "from tensorflow.python.keras.models import Model,load_model\n",
    "from tensorflow.python.keras.regularizers import l2\n",
    "from tensorflow.python.keras.initializers import glorot_uniform\n",
    "from tensorflow.python.keras.utils.vis_utils import plot_model\n",
    "\n",
    "# Helper libraries\n",
    "import numpy as np\n",
    "import matplotlib.pyplot as plt\n",
    "import h5py\n",
    "import cv2\n",
    "\n",
    "print(\"Import complete!\\n\")\n",
    "print(\"Checking Tensorflow version:\")\n",
    "# Check Tensorflow version\n",
    "print(tf.__version__)"
   ]
  },
  {
   "cell_type": "markdown",
   "metadata": {},
   "outputs": [],
   "source": [
    "## 2. Load trained models"
   ]
  },
  {
   "cell_type": "code",
   "metadata": {},
   "outputs": [],
   "source": [
    "print('Loading models……\\n')\n",
    "# Load CNN model\n",
    "print('Loading CNN model……\\n')\n",
    "CNN_model = load_model('CNN.h5')\n",
    "\n",
    "# Load DNN model\n",
    "print('Loading DNN model……')\n",
    "DNN_model = load_model('DNN.h5')\n",
    "\n",
    "print('\\nLoading complete!')"
   ]
  },
  {
   "cell_type": "markdown",
   "metadata": {},
   "outputs": [],
   "source": [
    "## 3. Loading datasets and preprocessing"
   ]
  },
  {
   "cell_type": "code",
   "metadata": {},
   "outputs": [],
   "source": [
    "# import the Fashion MNIST dataset\n",
    "print(\"Loading train and test data……\\n\")\n",
    "fashion_mnist = keras.datasets.fashion_mnist\n",
    "\n",
    "(train_images, train_labels), (test_images, test_labels) = fashion_mnist.load_data()\n",
    "print(\"Loading complete!\")\n",
    "\n",
    "print(\"Preprocessing……\")\n",
    "\n",
    "# Feature scaling\n",
    "print(\"Scaling the feature……\")\n",
    "CNN_test_images = test_images / 255.0\n",
    "\n",
    "DNN_test_images = test_images / 255.0\n",
    "\n",
    "# Reshape\n",
    "print(\"Reshape the datasets……\")\n",
    "\n",
    "CNN_test_images = CNN_test_images.reshape(-1, 28, 28, 1)\n",
    "\n",
    "print('\\nComplete!')"
   ]
  },
  {
   "cell_type": "markdown",
   "metadata": {},
   "outputs": [],
   "source": [
    "## 4. Make predictions"
   ]
  },
  {
   "cell_type": "code",
   "metadata": {},
   "outputs": [],
   "source": [
    "print(\"predicting……\")\n",
    "# Predict\n",
    "CNN_predictions = CNN_model.predict(CNN_test_images)\n",
    "\n",
    "DNN_predictions = DNN_model.predict(DNN_test_images)\n",
    "\n",
    "print(\"Predict complete!\")"
   ]
  },
  {
   "cell_type": "markdown",
   "metadata": {},
   "outputs": [],
   "source": [
    "## 5. Make decisions"
   ]
  },
  {
   "cell_type": "code",
   "metadata": {},
   "outputs": [],
   "source": [
    "# Decision making\n",
    "print('Making decisions……')\n",
    "predictions = np.zeros([10000,1], dtype=np.float32)\n",
    "c = 0\n",
    "for i in range(10000):\n",
    "    Cp = np.argmax(CNN_predictions[i])\n",
    "    Dp = np.argmax(DNN_predictions[i])\n",
    "    if Cp > Dp:\n",
    "        predictions[i] = Cp\n",
    "    else:\n",
    "        predictions[i] = Dp\n",
    "    print('%d'%predictions[i])\n",
    "    if test_labels[i] == predictions[i]:\n",
    "        print(\"Correct!\\n\")\n",
    "        c = c + 1\n",
    "    else:\n",
    "        print(\"Wrong!\\n\")\n",
    "\n",
    "print('Complete!')"
   ]
  },
  {
   "cell_type": "markdown",
   "metadata": {},
   "outputs": [],
   "source": [
    "## 6. Calculate accuracy"
   ]
  },
  {
   "cell_type": "code",
   "metadata": {},
   "outputs": [],
   "source": [
    "model_accuracy = float(c) / 1000.0 / 10\n",
    "print(\"model accuracy: %.5f\"%model_accuracy)"
   ]
  },
  {
   "cell_type": "markdown",
   "metadata": {},
   "outputs": [],
   "source": [
    "## 7. Get the path of a image"
   ]
  },
  {
   "cell_type": "code",
   "metadata": {},
   "outputs": [],
   "source": [
    "# Get path\n",
    "def getpath():\n",
    "    PATH = input(\"Please enter the path of the image you would like to predict: \")\n",
    "    return PATH"
   ]
  },
  {
   "cell_type": "markdown",
   "metadata": {},
   "outputs": [],
   "source": [
    "## 8. Preprocessing unit"
   ]
  },
  {
   "cell_type": "code",
   "metadata": {},
   "outputs": [],
   "source": [
    "# Preprocessing unit for CNN\n",
    "def CNN_preprocess(path):\n",
    "    img_size = 28\n",
    "    raw_img_array = cv2.imread(path, cv2.IMREAD_GRAYSCALE)\n",
    "    processed_img_array = cv2.resize(raw_img_array, (img_size, img_size))\n",
    "    processed_img_array = processed_img_array / 255.0\n",
    "    plt.imshow(processed_img_array)\n",
    "    plt.show()\n",
    "    processed_img_array = processed_img_array.reshape(-1, img_size, img_size, 1)\n",
    "    return processed_img_array"
   ]
  },
  {
   "cell_type": "code",
   "metadata": {},
   "outputs": [],
   "source": [
    "# Preprocessing unit for DNN\n",
    "def DNN_preprocess(path):\n",
    "    img_size = 28\n",
    "    raw_img_array = cv2.imread(path, cv2.IMREAD_GRAYSCALE)\n",
    "    processed_img_array = cv2.resize(raw_img_array, (img_size, img_size))\n",
    "    processed_img_array = processed_img_array / 255.0\n",
    "    processed_img_array = processed_img_array.reshape(1, img_size, img_size)\n",
    "    return processed_img_array"
   ]
  },
  {
   "cell_type": "markdown",
   "metadata": {},
   "outputs": [],
   "source": [
    "## 9. Switcher"
   ]
  },
  {
   "cell_type": "code",
   "metadata": {},
   "outputs": [],
   "source": [
    "# Label Class\n",
    "# 0     T-shirt/top\n",
    "# 1     Trouser\n",
    "# 2     Pullover\n",
    "# 3     Dress\n",
    "# 4     Coat\n",
    "# 5     Sandal\n",
    "# 6     Shirt\n",
    "# 7     Sneaker\n",
    "# 8     Bag\n",
    "# 9     Ankle boot\n",
    "def switcher(prediction):\n",
    "    class_names = {\n",
    "        0 : 'T-shirt/top',\n",
    "        1 : 'Trouser',\n",
    "        2 : 'Pullover',\n",
    "        3 : 'Dress',\n",
    "        4 : 'Coat',\n",
    "        5 : 'Sandal',\n",
    "        6 : 'Shirt',\n",
    "        7 : 'Sneaker',\n",
    "        8 : 'Bag',\n",
    "        9 : 'Ankle boot'\n",
    "    }\n",
    "    return class_names.get(prediction,\"nothing\")"
   ]
  },
  {
   "cell_type": "markdown",
   "metadata": {},
   "outputs": [],
   "source": [
    "## 10. Main"
   ]
  },
  {
   "cell_type": "code",
   "metadata": {},
   "outputs": [],
   "source": [
    "# Define main()\n",
    "def main(inputpath):\n",
    "    PATH = inputpath# Input path\n",
    "\n",
    "    print(\"\\nPreprocessing……\")\n",
    "    CNN_image = CNN_preprocess(PATH)\n",
    "    DNN_image = DNN_preprocess(PATH)# Preprocessing\n",
    "    print(\"Preprocessing complete!\\n\")\n",
    "\n",
    "    print(\"Predicting……\")\n",
    "    CNN_prediction = CNN_model.predict(CNN_image)\n",
    "    DNN_prediction = DNN_model.predict(DNN_image)# Predicting\n",
    "    print(\"Predicting complete!\\n\")\n",
    "\n",
    "    Cp_tag = np.argmax(CNN_prediction)\n",
    "    Cp = np.max(CNN_prediction)\n",
    "    Dp_tag = np.argmax(DNN_prediction)\n",
    "    Dp = np.max(DNN_prediction)\n",
    "    if Cp > Dp:\n",
    "        prediction = Cp_tag\n",
    "    else:\n",
    "        prediction = Dp_tag\n",
    "    prediction = switcher(int(prediction))\n",
    "    print(\"The image might be a %s.\"%prediction)\n",
    "    print(\"\\nThank you for using!\")"
   ]
  },
  {
   "cell_type": "code",
   "metadata": {},
   "outputs": [],
   "source": [
    "# Run main()\n",
    "main(\"./test/test0.jpg\")"
   ]
  },
  {
   "cell_type": "code",
   "metadata": {},
   "outputs": [],
   "source": [
    "# Run main()\n",
    "main(\"./test/test1.jpg\")"
   ]
  },
  {
   "cell_type": "code",
   "metadata": {},
   "outputs": [],
   "source": []
  }
 ]
}