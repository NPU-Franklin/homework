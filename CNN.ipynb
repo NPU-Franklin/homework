{
 "nbformat": 4,
 "nbformat_minor": 2,
 "metadata": {
  "language_info": {
   "name": "python",
   "codemirror_mode": {
    "name": "ipython",
    "version": 3
   },
   "version": "3.7.4"
  },
  "orig_nbformat": 2,
  "file_extension": ".py",
  "mimetype": "text/x-python",
  "name": "python",
  "npconvert_exporter": "python",
  "pygments_lexer": "ipython3",
  "version": 3,
  "kernelspec": {
   "name": "python3",
   "language": "python",
   "display_name": "Python 3"
  }
 },
 "cells": [
  {
   "cell_type": "markdown",
   "metadata": {},
   "outputs": [],
   "source": [
    "# Basic Classification\n",
    "\n",
    "To classify 10 kinds of different clothes"
   ]
  },
  {
   "cell_type": "markdown",
   "metadata": {},
   "outputs": [],
   "source": [
    "## 1. Import necessary libraries"
   ]
  },
  {
   "cell_type": "code",
   "metadata": {},
   "outputs": [],
   "source": [
    "print(\"Importing……\")\n",
    "\n",
    "# import Tensorflow and tf.keras\n",
    "import tensorflow as tf\n",
    "from tensorflow import keras\n",
    "from tensorflow.python.keras.layers.normalization import BatchNormalization\n",
    "from tensorflow.python.keras.layers.convolutional import Conv2D, AveragePooling2D, MaxPooling2D, ZeroPadding2D\n",
    "from tensorflow.python.keras.layers.core import Activation, Flatten, Dense, Dropout\n",
    "from tensorflow.python.keras.layers import Input, add\n",
    "from tensorflow.python.keras.models import Model\n",
    "from tensorflow.python.keras.regularizers import l2\n",
    "from tensorflow.python.keras.initializers import glorot_uniform\n",
    "from tensorflow.python.keras.utils.vis_utils import plot_model\n",
    "\n",
    "# Helper libraries\n",
    "import numpy as np\n",
    "import matplotlib.pyplot as plt\n",
    "import h5py\n",
    "\n",
    "print(\"Import complete!\\n\")\n",
    "print(\"Checking Tensorflow version:\")\n",
    "# Check Tensorflow version\n",
    "print(tf.__version__)\n"
   ]
  },
  {
   "cell_type": "markdown",
   "metadata": {},
   "outputs": [],
   "source": [
    "## 2. Load MNIST data"
   ]
  },
  {
   "cell_type": "code",
   "metadata": {},
   "outputs": [],
   "source": [
    "# import the Fashion MNIST dataset\n",
    "print(\"Loading train and test data……\\n\")\n",
    "fashion_mnist = keras.datasets.fashion_mnist\n",
    "\n",
    "(train_images, train_labels), (test_images, test_labels) = fashion_mnist.load_data()\n",
    "print(\"Loading complete!\")"
   ]
  },
  {
   "cell_type": "markdown",
   "metadata": {},
   "outputs": [],
   "source": [
    "## 3. Define class names"
   ]
  },
  {
   "cell_type": "code",
   "metadata": {},
   "outputs": [],
   "source": [
    "# Label Class\n",
    "# 0     T-shirt/top\n",
    "# 1     Trouser\n",
    "# 2     Pullover\n",
    "# 3     Dress\n",
    "# 4     Coat\n",
    "# 5     Sandal\n",
    "# 6     Shirt\n",
    "# 7     Sneaker\n",
    "# 8     Bag\n",
    "# 9     Ankle boot\n",
    "\n",
    "print(\"Defining class_names……\\n\")\n",
    "# define class_names\n",
    "class_names = [\n",
    "    'T-shirt/top',\n",
    "    'Trouser',\n",
    "    'Pullover',\n",
    "    'Dress',\n",
    "    'Coat',\n",
    "    'Sandal',\n",
    "    'Shirt',\n",
    "    'Sneaker',\n",
    "    'Bag',\n",
    "    'Ankle boot'\n",
    "]\n",
    "print(\"Complete!\")"
   ]
  },
  {
   "cell_type": "markdown",
   "metadata": {},
   "outputs": [],
   "source": [
    "## 4. Explore the data"
   ]
  },
  {
   "cell_type": "code",
   "metadata": {},
   "outputs": [],
   "source": [
    "# Explore the data\n",
    "print(\"Shape of the training set: \")\n",
    "print(train_images.shape)\n",
    "print(\"Number of the training images：\")\n",
    "print(len(train_labels))\n",
    "print(\"examples of the train_labels: \")\n",
    "print(train_labels)\n",
    "print(\"Shape of the testing set: \")\n",
    "print(test_images.shape)\n",
    "print(\"Number of the testing images: \")\n",
    "print(len(test_labels))"
   ]
  },
  {
   "cell_type": "markdown",
   "metadata": {},
   "outputs": [],
   "source": [
    "## 5. Preprocessing"
   ]
  },
  {
   "cell_type": "markdown",
   "metadata": {},
   "outputs": [],
   "source": [
    "### 5.1 Plot the data"
   ]
  },
  {
   "cell_type": "code",
   "metadata": {},
   "outputs": [],
   "source": [
    "# 5.1 Plot the data\n",
    "print(\"An example of the training images:\")\n",
    "plt.figure()\n",
    "plt.imshow(train_images[0])\n",
    "plt.colorbar()\n",
    "plt.grid(False)\n",
    "plt.show()"
   ]
  },
  {
   "cell_type": "markdown",
   "metadata": {},
   "outputs": [],
   "source": [
    "### 5.2 Feature scaling"
   ]
  },
  {
   "cell_type": "code",
   "metadata": {},
   "outputs": [],
   "source": [
    "# 5.2 Feature scaling\n",
    "print(\"Scaling the feature.\")\n",
    "train_images = train_images / 255.0\n",
    "\n",
    "test_images = test_images / 255.0"
   ]
  },
  {
   "cell_type": "markdown",
   "metadata": {},
   "outputs": [],
   "source": [
    "### 5.3 Plot some data"
   ]
  },
  {
   "cell_type": "code",
   "metadata": {},
   "outputs": [],
   "source": [
    "# 5.3 Plot some data\n",
    "print(\"Plot a sets of data:\")\n",
    "plt.figure(figsize=(10, 10))\n",
    "for i in range(25):\n",
    "    plt.subplot(5, 5, i+1)\n",
    "    plt.xticks([])\n",
    "    plt.yticks([])\n",
    "    plt.grid(False)\n",
    "    plt.imshow(train_images[i], \n",
    "    cmap=plt.cm.binary)\n",
    "    plt.xlabel(class_names[train_labels[i]])\n",
    "plt.show()"
   ]
  },
  {
   "cell_type": "markdown",
   "metadata": {},
   "outputs": [],
   "source": [
    "### 5.4 Reshape"
   ]
  },
  {
   "cell_type": "code",
   "metadata": {},
   "outputs": [],
   "source": [
    "# 5.4 Reshape\n",
    "print(\"Reshape the datasets.\")\n",
    "train_images = train_images.reshape(-1, 28, 28, 1)\n",
    "\n",
    "test_images = test_images.reshape(-1, 28, 28, 1)"
   ]
  },
  {
   "cell_type": "markdown",
   "metadata": {},
   "outputs": [],
   "source": [
    "## 6. Build the training model"
   ]
  },
  {
   "cell_type": "code",
   "metadata": {},
   "outputs": [],
   "source": [
    "# Build the training model(CNN)\n",
    "print(\"Start to build the model……\\n\")\n",
    "model = keras.Sequential()\n",
    "\n",
    "model.add(Conv2D(32, (3, 3), activation='relu', input_shape=[28, 28, 1], padding='valid'))\n",
    "model.add(MaxPooling2D(pool_size=(2, 2), strides=2))\n",
    "\n",
    "model.add(Conv2D(64, (1, 1), activation='relu'))\n",
    "model.add(MaxPooling2D(pool_size=(2, 2), strides=2, padding='same'))\n",
    "\n",
    "model.add(Flatten())\n",
    "\n",
    "model.add(Dense(1024, activation='relu'))\n",
    "\n",
    "model.add(Dense(10, activation='softmax'))\n",
    "\n",
    "print(\"Build complete!\\n\")\n",
    "# look through the summary of the model\n",
    "print(\"Summary of the model:\")\n",
    "print(model.summary())"
   ]
  },
  {
   "cell_type": "markdown",
   "metadata": {},
   "outputs": [],
   "source": [
    "## 7. Compile the model"
   ]
  },
  {
   "cell_type": "code",
   "metadata": {},
   "outputs": [],
   "source": [
    "# Compile the model\n",
    "print(\"Compiling……\")\n",
    "model.compile(\n",
    "    optimizer='adam',\n",
    "    loss='sparse_categorical_crossentropy',\n",
    "    metrics=['accuracy']\n",
    ")\n",
    "print(\"Compiling complete!\")"
   ]
  },
  {
   "cell_type": "markdown",
   "metadata": {},
   "outputs": [],
   "source": [
    "## 8. Train the model"
   ]
  },
  {
   "cell_type": "code",
   "metadata": {},
   "outputs": [],
   "source": [
    "# Train the model\n",
    "print(\"Training:\")\n",
    "model.fit(train_images, train_labels, epochs=35)\n",
    "print(\"Training complete!\")"
   ]
  },
  {
   "cell_type": "markdown",
   "metadata": {},
   "outputs": [],
   "source": [
    "## 9. Evaluate the model"
   ]
  },
  {
   "cell_type": "code",
   "metadata": {},
   "outputs": [],
   "source": [
    "# Evaluate accuracy\n",
    "print(\"Evaluating:\")\n",
    "test_loss, test_acc = model.evaluate(test_images, test_labels, verbose=2)\n",
    "\n",
    "print('\\nTest accuracy:', test_acc)"
   ]
  },
  {
   "cell_type": "markdown",
   "metadata": {},
   "outputs": [],
   "source": [
    "## 10. Make some predictions"
   ]
  },
  {
   "cell_type": "markdown",
   "metadata": {},
   "outputs": [],
   "source": [
    "### 10.1 The first sets of predictions"
   ]
  },
  {
   "cell_type": "code",
   "metadata": {},
   "outputs": [],
   "source": [
    "# Make predictions\n",
    "print(\"Prediting:\")\n",
    "predictions = model.predict(test_images)\n",
    "\n",
    "for i in range(20):\n",
    "    print(predictions[0])\n",
    "    print(np.argmax(predictions[0]))\n",
    "    print(test_labels[0])\n",
    "    if test_labels[i] == np.argmax(predictions[i]):\n",
    "        print(\"Correct!\\n\")\n",
    "    else:\n",
    "        print(\"Wrong!\\n\")"
   ]
  },
  {
   "cell_type": "markdown",
   "metadata": {},
   "outputs": [],
   "source": [
    "### 10.2 The second sets of predictions"
   ]
  },
  {
   "cell_type": "code",
   "metadata": {},
   "outputs": [],
   "source": [
    "# Make predictions(graph)\n",
    "(train_images, train_labels), (test_images, test_labels) = fashion_mnist.load_data()\n",
    "def plot_image(i, predictions_array, true_label, img):\n",
    "  predictions_array, true_label, img = predictions_array, true_label[i], img[i]\n",
    "  plt.grid(False)\n",
    "  plt.xticks([])\n",
    "  plt.yticks([])\n",
    "\n",
    "  plt.imshow(img, cmap=plt.cm.binary)\n",
    "\n",
    "  predicted_label = np.argmax(predictions_array)\n",
    "  if predicted_label == true_label:\n",
    "    color = 'blue'\n",
    "  else:\n",
    "    color = 'red'\n",
    "\n",
    "  plt.xlabel(\"{} {:2.0f}% ({})\".format(class_names[predicted_label],\n",
    "                                100*np.max(predictions_array),\n",
    "                                class_names[true_label]),\n",
    "                                color=color)\n",
    "\n",
    "def plot_value_array(i, predictions_array, true_label):\n",
    "  predictions_array, true_label = predictions_array, true_label[i]\n",
    "  plt.grid(False)\n",
    "  plt.xticks(range(10))\n",
    "  plt.yticks([])\n",
    "  thisplot = plt.bar(range(10), predictions_array, color=\"#777777\")\n",
    "  plt.ylim([0, 1])\n",
    "  predicted_label = np.argmax(predictions_array)\n",
    "\n",
    "  thisplot[predicted_label].set_color('red')\n",
    "  thisplot[true_label].set_color('blue')\n",
    "\n",
    "i = 0\n",
    "plt.figure(figsize=(6,3))\n",
    "plt.subplot(1,2,1)\n",
    "plot_image(i, predictions[i], test_labels, test_images)\n",
    "plt.subplot(1,2,2)\n",
    "plot_value_array(i, predictions[i],  test_labels)\n",
    "plt.show()\n",
    "\n",
    "i = 12\n",
    "plt.figure(figsize=(6,3))\n",
    "plt.subplot(1,2,1)\n",
    "plot_image(i, predictions[i], test_labels, test_images)\n",
    "plt.subplot(1,2,2)\n",
    "plot_value_array(i, predictions[i],  test_labels)\n",
    "plt.show()\n",
    "\n",
    "# Plot the first X test images, their predicted labels, and the true labels.\n",
    "# Color correct predictions in blue and incorrect predictions in red.\n",
    "num_rows = 5\n",
    "num_cols = 3\n",
    "num_images = num_rows*num_cols\n",
    "plt.figure(figsize=(2*2*num_cols, 2*num_rows))\n",
    "for i in range(num_images):\n",
    "  plt.subplot(num_rows, 2*num_cols, 2*i+1)\n",
    "  plot_image(i, predictions[i], test_labels, test_images)\n",
    "  plt.subplot(num_rows, 2*num_cols, 2*i+2)\n",
    "  plot_value_array(i, predictions[i], test_labels)\n",
    "plt.tight_layout()\n",
    "plt.show()"
   ]
  },
  {
   "cell_type": "markdown",
   "metadata": {},
   "outputs": [],
   "source": [
    "## 11. Save the model"
   ]
  },
  {
   "cell_type": "code",
   "metadata": {},
   "outputs": [],
   "source": [
    "# Save model\n",
    "print(\"Saving model to disk…… \\n\")\n",
    "mp = \"./CNN.h5\"\n",
    "model.save(mp)\n",
    "print(\"Complete!\\n\")"
   ]
  },
  {
   "cell_type": "markdown",
   "metadata": {},
   "outputs": [],
   "source": [
    "## 12. Exploring the model:"
   ]
  },
  {
   "cell_type": "code",
   "execution_count": 48,
   "metadata": {},
   "outputs": [
    {
     "name": "stdout",
     "output_type": "stream",
     "text": "Reading model:\nMatrix of conv2d_2_bias：\n[-0.01170829  0.15828332  0.02928107  0.01902134 -0.2066452  -0.02015478\n -0.0252236  -0.08976434 -0.16195975 -0.09688721 -0.04434132  0.07536625\n -0.03964448 -0.01044892 -0.10814156  0.18704034  0.03887077  0.06531738\n -0.02116235 -0.0939493  -0.01001685 -0.1470906   0.04702326 -0.00024021\n  0.03735899 -0.05293265  0.02251133 -0.00569569 -0.00308721 -0.08371257\n  0.01959102  0.03377442]\n\nMatrix of conv2d_2_kernel：\n[[[[-0.22291255 -0.11091291 -0.39625555  0.01890027 -0.17767724\n     0.27429536 -0.14127214  0.3899937   0.27404788 -0.3618641\n    -0.09478934 -0.64221734  0.2779026  -0.08675465  0.14675885\n    -0.171745   -0.50379986 -0.16511852 -0.32539064 -0.20554377\n     0.41807228  0.24496853 -1.2659      0.41573378  0.43407732\n     0.12834105 -0.5020692  -0.5033437   0.46425357  0.15128058\n     0.44813457 -0.11381761]]\n\n  [[ 0.38628608  0.31248596  0.08905209 -0.11227417 -0.13364676\n    -0.30172268 -0.0393108  -0.15089689  0.25743675  0.53066766\n     0.06280177 -0.6829095  -0.39867565  0.40439278  0.20174675\n     0.03863233 -0.63607997  0.24674465 -0.25684977 -0.09080143\n     0.36741483  0.06755485 -0.56242764 -0.46755713  0.33462435\n    -0.05209249  0.17428774 -0.3990082   0.10575624  0.47187775\n    -0.31715772  0.00426784]]\n\n  [[-0.11474852 -0.05207013  0.40064982 -0.40987745 -0.02147365\n     0.24744086  0.02992296 -0.5154783  -0.36033043  0.02368531\n     0.4117403  -0.7433975   0.147655   -0.29751307  0.2433616\n     0.24054332 -0.26152137  0.5518652   0.6670798  -0.05686312\n    -0.05018572 -0.11961956  0.34496406  0.06097538 -0.37297034\n    -0.18434499  0.42857522  0.40546075 -0.16710617  0.1250565\n    -0.00523063  0.25121322]]]\n\n\n [[[ 0.21332046  0.34223562 -0.03645319 -0.13347863  0.27485955\n    -0.0152458  -0.25899214  0.38372216 -0.16792053 -0.18782674\n    -0.03692432  0.14969295  0.4015768  -0.4200362   0.14751193\n    -1.4988213   0.29010603 -0.15156318  0.32345915  0.17690822\n    -0.15148644 -0.25506905 -0.06193566  0.08200641 -0.04413729\n    -0.32870072 -0.90634054 -0.3069266   0.00420101  0.06233503\n    -0.22863354 -0.43105537]]\n\n  [[ 0.13408577 -0.6672487   0.46804482 -0.06347845  0.08753228\n    -0.50165004  0.22397448  0.01120982  0.25149304  0.1608743\n     0.08841358 -0.21381918 -0.34598523  0.08966233  0.1770407\n    -0.23030418 -0.18642966 -0.11670712 -0.55726415 -0.06712084\n    -0.48713893  0.01092381 -0.04809497 -0.10574219 -0.06361604\n    -0.49167097 -0.13192594  0.0487656  -0.5372826   0.16444515\n     0.26300007  0.00912464]]\n\n  [[-0.30925658 -0.6491918  -0.23418383  0.43634933 -0.09538586\n     0.45884404  0.19377677  0.00487406  0.11337227  0.12416647\n     0.00536903 -0.17932536  0.01700722  0.362779    0.01218319\n     0.1362617   0.13718858 -0.12721895 -0.3586382   0.07122916\n    -0.7174471  -0.04396233 -0.3671817  -0.14358523  0.05213046\n     0.15311773 -0.281578    0.11785325 -1.0289376  -0.15535134\n    -0.17440966  0.36444503]]]\n\n\n [[[ 0.47437897  0.23167802  0.46213806  0.2220729  -0.07803081\n     0.14236696  0.35166612  0.14633925 -0.1339361  -0.01654484\n    -0.260442    0.47677118 -0.01043471  0.20444334 -0.32845378\n    -1.6064626   0.22926722  0.09563648  0.3379965   0.15313877\n     0.04152893  0.11662768 -0.22152413  0.24800454 -0.5962956\n     0.3248618   0.3385857   0.1234324  -0.65071446  0.30268657\n    -0.40602455 -0.30395156]]\n\n  [[-0.29032516 -0.69898224 -0.6907136   0.06657513  0.19807544\n    -0.39479607  0.03452474  0.13829051  0.29270026 -0.2725965\n    -0.0990302  -0.11022791 -0.13256626 -0.25677335 -0.46568403\n    -0.35747296 -0.0162535  -0.8813989   0.16839112  0.31430194\n     0.3896302  -0.1080924   0.37102112 -0.00180603 -0.34401318\n     0.21021596  0.1735549   0.29077888 -0.8487571  -0.50629187\n     0.2640676   0.21437658]]\n\n  [[-0.19562845 -1.3229657  -0.73055357 -0.07430552  0.2962871\n     0.19587897 -0.43947265 -0.04603187  0.09316657  0.21259083\n     0.17062831  0.23944291  0.13747866  0.01508256  0.10044915\n     0.21404338  0.21699293 -1.3371397  -0.28536406  0.23591024\n     0.05036669  0.45068184  0.16031206  0.00258487  0.45284998\n     0.42067543 -0.0104492  -0.01847326 -0.3467109  -0.27905935\n     0.09341596 -0.03088103]]]]\n\nMatrix of conv2d_3_bias：\n[-2.09563687e-01 -3.11682254e-01  1.69210345e-01  1.98166491e-03\n -7.52204210e-02 -1.97310671e-01 -1.20218676e-02 -6.52877986e-02\n  4.97036912e-02 -1.99248895e-01 -1.47056868e-02 -2.15805564e-02\n -2.65684992e-01 -7.79439211e-02 -2.26348326e-01 -1.67326167e-01\n  7.63587207e-02 -1.76907139e-04 -7.00820759e-02 -1.31850727e-02\n -5.08978963e-02  6.03298051e-03 -7.15390369e-02 -3.72158252e-02\n  1.00754663e-01 -2.14938819e-01 -4.97015826e-02 -3.22845541e-02\n -2.36993656e-02 -1.12158678e-01 -3.71803045e-02 -2.23244935e-01\n  2.58311350e-02  2.78702043e-02  3.45731825e-02  1.04980215e-01\n -8.70704800e-02 -2.27552742e-01  8.79081804e-03 -4.35142107e-02\n -2.40766611e-02 -1.23344004e-01  4.35312605e-03 -1.18508330e-02\n  1.07784793e-01 -2.16672830e-02 -3.18314373e-01 -6.33469969e-03\n  6.63286680e-03 -9.46634710e-02  5.08627109e-02 -9.01742727e-02\n -4.13528793e-02 -1.72716588e-01 -6.31318763e-02 -2.01719105e-02\n  2.27078591e-02  3.50208580e-02 -1.99609548e-01 -2.16659550e-02\n -4.59695831e-02 -6.51319697e-02 -6.59377798e-02 -3.96261476e-02]\n\nMatrix of conv2d_3_kernel：\n[[[[ 3.22866142e-01 -3.12171698e-01  2.81334639e-01 ... -1.71653882e-01\n    -1.11677863e-01 -1.08090766e-01]\n   [ 2.49232888e-01 -4.65801924e-01  1.55417442e-01 ... -5.28322875e-01\n     5.62950708e-02 -5.12967765e-01]\n   [ 3.50562304e-01  4.35697377e-01 -3.04030925e-01 ...  3.22026610e-01\n    -1.22445844e-01  3.68011594e-01]\n   ...\n   [ 1.09052062e-01  8.23766962e-02  3.84811894e-04 ...  2.90743470e-01\n    -5.38243167e-02 -2.79129922e-01]\n   [ 3.31352502e-01  4.49453831e-01 -1.40554592e-01 ...  2.84623802e-01\n    -1.24413416e-01  4.35894072e-01]\n   [-3.96639993e-03  2.86878347e-01 -6.97191283e-02 ...  2.08811939e-01\n     1.09515496e-01 -2.60436416e-01]]]]\n\nMatrix of dense_2_bias：\n0.03545162\n\nMatrix of dense_2_kernel：\n[[-0.43315166 -0.0238265  -0.10905457 ... -0.2523028  -0.14892934\n  -0.01256433]\n [ 0.11359873  0.01771067 -0.03272511 ... -0.16947629 -0.00767905\n  -0.03166158]\n [ 0.22213669  0.01662379 -0.04957453 ... -0.36062533 -0.23964547\n   0.01870113]\n ...\n [-0.09771206  0.05684417  0.03302666 ... -0.17433503 -0.2709165\n   0.02666338]\n [ 0.02353642 -0.00258699  0.01509553 ... -0.00176451 -0.00795266\n  -0.00273618]\n [ 0.31635562 -0.2750705   0.01925878 ...  0.01800354  0.06414454\n   0.01364036]]\n\nMatrix of dense_3_bias：\n-0.11952468\n\nMatrix of dense_3_kernel：\n[[ 0.02546009 -0.3267198   0.17470568 ...  0.03486324 -0.04675994\n  -0.19766496]\n [-0.2668745  -0.50582594  0.08142026 ... -0.14618878  0.11002469\n   0.13337506]\n [-0.54459846  0.45985115 -0.54368186 ...  0.6396208  -0.35439843\n  -0.49221718]\n ...\n [ 0.36410606 -0.10817077 -0.21203731 ... -0.344103    0.3460734\n   0.0450441 ]\n [ 0.06647272  0.01903336  0.7406097  ... -0.23838155  0.2700252\n  -0.42082098]\n [ 0.07719038 -0.01832106 -0.01756794 ... -0.00870154  0.03880788\n   0.06145562]]\n\n"
    }
   ],
   "source": [
    "# Path of model\n",
    "MODEL_PATH = './CNN.h5'\n",
    "\n",
    "# Reading model\n",
    "print(\"Reading model:\")\n",
    "with h5py.File(MODEL_PATH, 'r') as f:\n",
    "    conv2d_2 = f['/model_weights/conv2d_2/conv2d_2']\n",
    "    conv2d_2_bias = conv2d_2['bias:0'][:]\n",
    "    conv2d_2_kernel = conv2d_2['kernel:0'][:]\n",
    "\n",
    "    conv2d_3 = f['/model_weights/conv2d_3/conv2d_3']\n",
    "    conv2d_3_bias = conv2d_3['bias:0'][:]\n",
    "    conv2d_3_kernel = conv2d_3['kernel:0'][:]\n",
    "\n",
    "    dense_2 = f['/model_weights/dense_2/dense_2']\n",
    "    dense_2_bias = dense_2['bias:0'][0]\n",
    "    dense_2_kernel = dense_2['kernel:0'][:]\n",
    "\n",
    "    dense_3 = f['/model_weights/dense_3/dense_3']\n",
    "    dense_3_bias = dense_3['bias:0'][0]\n",
    "    dense_3_kernel = dense_3['kernel:0'][:]\n",
    "\n",
    "print(\"Matrix of conv2d_2_bias：\\n%s\\n\"%conv2d_2_bias)\n",
    "print(\"Matrix of conv2d_2_kernel：\\n%s\\n\"%conv2d_2_kernel)\n",
    "print(\"Matrix of conv2d_3_bias：\\n%s\\n\"%conv2d_3_bias)\n",
    "print(\"Matrix of conv2d_3_kernel：\\n%s\\n\"%conv2d_3_kernel)\n",
    "print(\"Matrix of dense_2_bias：\\n%s\\n\"%dense_2_bias)\n",
    "print(\"Matrix of dense_2_kernel：\\n%s\\n\"%dense_2_kernel)\n",
    "print(\"Matrix of dense_3_bias：\\n%s\\n\"%dense_3_bias)\n",
    "print(\"Matrix of dense_3_kernel：\\n%s\\n\"%dense_3_kernel)"
   ]
  }
 ]
}