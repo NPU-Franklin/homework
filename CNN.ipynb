{
 "nbformat": 4,
 "nbformat_minor": 2,
 "metadata": {
  "language_info": {
   "name": "python",
   "codemirror_mode": {
    "name": "ipython",
    "version": 3
   },
   "version": "3.7.4"
  },
  "orig_nbformat": 2,
  "file_extension": ".py",
  "mimetype": "text/x-python",
  "name": "python",
  "npconvert_exporter": "python",
  "pygments_lexer": "ipython3",
  "version": 3,
  "kernelspec": {
   "name": "python3",
   "language": "python",
   "display_name": "Python 3"
  }
 },
 "cells": [
  {
   "cell_type": "markdown",
   "metadata": {},
   "outputs": [],
   "source": [
    "# Basic Classification With CNN\n",
    "\n",
    "To classify 10 kinds of different clothes with CNN"
   ]
  },
  {
   "cell_type": "markdown",
   "metadata": {},
   "outputs": [],
   "source": [
    "## 1. Import necessary libraries"
   ]
  },
  {
   "cell_type": "code",
   "metadata": {},
   "outputs": [],
   "source": [
    "print(\"Importing……\")\n",
    "\n",
    "# import Tensorflow and tf.keras\n",
    "import tensorflow as tf\n",
    "from tensorflow import keras\n",
    "from tensorflow.python.keras.layers.normalization import BatchNormalization\n",
    "from tensorflow.python.keras.layers.convolutional import Conv2D, AveragePooling2D, MaxPooling2D, ZeroPadding2D\n",
    "from tensorflow.python.keras.layers.core import Activation, Flatten, Dense, Dropout\n",
    "from tensorflow.python.keras.layers import Input, add\n",
    "from tensorflow.python.keras.models import Model\n",
    "from tensorflow.python.keras.regularizers import l2\n",
    "from tensorflow.python.keras.initializers import glorot_uniform\n",
    "from tensorflow.python.keras.utils.vis_utils import plot_model\n",
    "\n",
    "# Helper libraries\n",
    "import numpy as np\n",
    "import matplotlib.pyplot as plt\n",
    "import h5py\n",
    "\n",
    "print(\"Import complete!\\n\")\n",
    "print(\"Checking Tensorflow version:\")\n",
    "# Check Tensorflow version\n",
    "print(tf.__version__)\n"
   ]
  },
  {
   "cell_type": "markdown",
   "metadata": {},
   "outputs": [],
   "source": [
    "## 2. Load MNIST data"
   ]
  },
  {
   "cell_type": "code",
   "metadata": {},
   "outputs": [],
   "source": [
    "# import the Fashion MNIST dataset\n",
    "print(\"Loading train and test data……\\n\")\n",
    "fashion_mnist = keras.datasets.fashion_mnist\n",
    "\n",
    "(train_images, train_labels), (test_images, test_labels) = fashion_mnist.load_data()\n",
    "print(\"Loading complete!\")"
   ]
  },
  {
   "cell_type": "markdown",
   "metadata": {},
   "outputs": [],
   "source": [
    "## 3. Define class names"
   ]
  },
  {
   "cell_type": "code",
   "metadata": {},
   "outputs": [],
   "source": [
    "# Label Class\n",
    "# 0     T-shirt/top\n",
    "# 1     Trouser\n",
    "# 2     Pullover\n",
    "# 3     Dress\n",
    "# 4     Coat\n",
    "# 5     Sandal\n",
    "# 6     Shirt\n",
    "# 7     Sneaker\n",
    "# 8     Bag\n",
    "# 9     Ankle boot\n",
    "\n",
    "print(\"Defining class_names……\\n\")\n",
    "# define class_names\n",
    "class_names = [\n",
    "    'T-shirt/top',\n",
    "    'Trouser',\n",
    "    'Pullover',\n",
    "    'Dress',\n",
    "    'Coat',\n",
    "    'Sandal',\n",
    "    'Shirt',\n",
    "    'Sneaker',\n",
    "    'Bag',\n",
    "    'Ankle boot'\n",
    "]\n",
    "print(\"Complete!\")"
   ]
  },
  {
   "cell_type": "markdown",
   "metadata": {},
   "outputs": [],
   "source": [
    "## 4. Explore the data"
   ]
  },
  {
   "cell_type": "code",
   "metadata": {},
   "outputs": [],
   "source": [
    "# Explore the data\n",
    "print(\"Shape of the training set: \")\n",
    "print(train_images.shape)\n",
    "print(\"Number of the training images：\")\n",
    "print(len(train_labels))\n",
    "print(\"examples of the train_labels: \")\n",
    "print(train_labels)\n",
    "print(\"Shape of the testing set: \")\n",
    "print(test_images.shape)\n",
    "print(\"Number of the testing images: \")\n",
    "print(len(test_labels))"
   ]
  },
  {
   "cell_type": "markdown",
   "metadata": {},
   "outputs": [],
   "source": [
    "## 5. Preprocessing"
   ]
  },
  {
   "cell_type": "markdown",
   "metadata": {},
   "outputs": [],
   "source": [
    "### 5.1 Plot the data"
   ]
  },
  {
   "cell_type": "code",
   "metadata": {},
   "outputs": [],
   "source": [
    "# 5.1 Plot the data\n",
    "print(\"An example of the training images:\")\n",
    "plt.figure()\n",
    "plt.imshow(train_images[0])\n",
    "plt.colorbar()\n",
    "plt.grid(False)\n",
    "plt.show()"
   ]
  },
  {
   "cell_type": "markdown",
   "metadata": {},
   "outputs": [],
   "source": [
    "### 5.2 Feature scaling"
   ]
  },
  {
   "cell_type": "code",
   "metadata": {},
   "outputs": [],
   "source": [
    "# 5.2 Feature scaling\n",
    "print(\"Scaling the feature.\")\n",
    "train_images = train_images / 255.0\n",
    "\n",
    "test_images = test_images / 255.0"
   ]
  },
  {
   "cell_type": "markdown",
   "metadata": {},
   "outputs": [],
   "source": [
    "### 5.3 Plot some data"
   ]
  },
  {
   "cell_type": "code",
   "metadata": {},
   "outputs": [],
   "source": [
    "# 5.3 Plot some data\n",
    "print(\"Plot a sets of data:\")\n",
    "plt.figure(figsize=(10, 10))\n",
    "for i in range(25):\n",
    "    plt.subplot(5, 5, i+1)\n",
    "    plt.xticks([])\n",
    "    plt.yticks([])\n",
    "    plt.grid(False)\n",
    "    plt.imshow(train_images[i], \n",
    "    cmap=plt.cm.binary)\n",
    "    plt.xlabel(class_names[train_labels[i]])\n",
    "plt.show()"
   ]
  },
  {
   "cell_type": "markdown",
   "metadata": {},
   "outputs": [],
   "source": [
    "### 5.4 Reshape"
   ]
  },
  {
   "cell_type": "code",
   "metadata": {},
   "outputs": [],
   "source": [
    "# 5.4 Reshape\n",
    "print(\"Reshape the datasets.\")\n",
    "train_images = train_images.reshape(-1, 28, 28, 1)\n",
    "\n",
    "test_images = test_images.reshape(-1, 28, 28, 1)"
   ]
  },
  {
   "cell_type": "markdown",
   "metadata": {},
   "outputs": [],
   "source": [
    "## 6. Build the training model"
   ]
  },
  {
   "cell_type": "code",
   "metadata": {},
   "outputs": [],
   "source": [
    "# Build the training model(CNN)\n",
    "print(\"Start to build the model……\\n\")\n",
    "model = keras.Sequential()\n",
    "\n",
    "model.add(Conv2D(32, (3, 3), activation='relu', input_shape=[28, 28, 1], padding='valid'))\n",
    "model.add(MaxPooling2D(pool_size=(2, 2), strides=2))\n",
    "\n",
    "model.add(Conv2D(64, (1, 1), activation='relu'))\n",
    "model.add(MaxPooling2D(pool_size=(2, 2), strides=2, padding='same'))\n",
    "\n",
    "model.add(Flatten())\n",
    "\n",
    "model.add(Dense(1024, activation='relu'))\n",
    "\n",
    "model.add(Dense(10, activation='softmax'))\n",
    "\n",
    "print(\"Build complete!\\n\")\n",
    "# look through the summary of the model\n",
    "print(\"Summary of the model:\")\n",
    "print(model.summary())"
   ]
  },
  {
   "cell_type": "markdown",
   "metadata": {},
   "outputs": [],
   "source": [
    "## 7. Compile the model"
   ]
  },
  {
   "cell_type": "code",
   "metadata": {},
   "outputs": [],
   "source": [
    "# Compile the model\n",
    "print(\"Compiling……\")\n",
    "model.compile(\n",
    "    optimizer='adam',\n",
    "    loss='sparse_categorical_crossentropy',\n",
    "    metrics=['accuracy']\n",
    ")\n",
    "print(\"Compiling complete!\")"
   ]
  },
  {
   "cell_type": "markdown",
   "metadata": {},
   "outputs": [],
   "source": [
    "## 8. Train the model"
   ]
  },
  {
   "cell_type": "code",
   "metadata": {},
   "outputs": [],
   "source": [
    "# Train the model\n",
    "print(\"Training:\")\n",
    "model.fit(train_images, train_labels, epochs=35)\n",
    "print(\"Training complete!\")"
   ]
  },
  {
   "cell_type": "markdown",
   "metadata": {},
   "outputs": [],
   "source": [
    "## 9. Evaluate the model"
   ]
  },
  {
   "cell_type": "code",
   "metadata": {},
   "outputs": [],
   "source": [
    "# Evaluate accuracy\n",
    "print(\"Evaluating:\")\n",
    "test_loss, test_acc = model.evaluate(test_images, test_labels, verbose=2)\n",
    "\n",
    "print(\"\\nTest loss:\", test_loss)\n",
    "print('\\nTest accuracy:', test_acc)"
   ]
  },
  {
   "cell_type": "markdown",
   "metadata": {},
   "outputs": [],
   "source": [
    "## 10. Make some predictions"
   ]
  },
  {
   "cell_type": "markdown",
   "metadata": {},
   "outputs": [],
   "source": [
    "### 10.1 The first sets of predictions"
   ]
  },
  {
   "cell_type": "code",
   "metadata": {},
   "outputs": [],
   "source": [
    "# Make predictions\n",
    "print(\"Prediting:\")\n",
    "predictions = model.predict(test_images)\n",
    "\n",
    "for i in range(20):\n",
    "    print(predictions[0])\n",
    "    print(np.argmax(predictions[0]))\n",
    "    print(test_labels[0])\n",
    "    if test_labels[i] == np.argmax(predictions[i]):\n",
    "        print(\"Correct!\\n\")\n",
    "    else:\n",
    "        print(\"Wrong!\\n\")"
   ]
  },
  {
   "cell_type": "markdown",
   "metadata": {},
   "outputs": [],
   "source": [
    "### 10.2 The second sets of predictions"
   ]
  },
  {
   "cell_type": "code",
   "metadata": {},
   "outputs": [],
   "source": [
    "# Make predictions(graph)\n",
    "(train_images, train_labels), (test_images, test_labels) = fashion_mnist.load_data()\n",
    "def plot_image(i, predictions_array, true_label, img):\n",
    "  predictions_array, true_label, img = predictions_array, true_label[i], img[i]\n",
    "  plt.grid(False)\n",
    "  plt.xticks([])\n",
    "  plt.yticks([])\n",
    "\n",
    "  plt.imshow(img, cmap=plt.cm.binary)\n",
    "\n",
    "  predicted_label = np.argmax(predictions_array)\n",
    "  if predicted_label == true_label:\n",
    "    color = 'blue'\n",
    "  else:\n",
    "    color = 'red'\n",
    "\n",
    "  plt.xlabel(\"{} {:2.0f}% ({})\".format(class_names[predicted_label],\n",
    "                                100*np.max(predictions_array),\n",
    "                                class_names[true_label]),\n",
    "                                color=color)\n",
    "\n",
    "def plot_value_array(i, predictions_array, true_label):\n",
    "  predictions_array, true_label = predictions_array, true_label[i]\n",
    "  plt.grid(False)\n",
    "  plt.xticks(range(10))\n",
    "  plt.yticks([])\n",
    "  thisplot = plt.bar(range(10), predictions_array, color=\"#777777\")\n",
    "  plt.ylim([0, 1])\n",
    "  predicted_label = np.argmax(predictions_array)\n",
    "\n",
    "  thisplot[predicted_label].set_color('red')\n",
    "  thisplot[true_label].set_color('blue')\n",
    "\n",
    "i = 0\n",
    "plt.figure(figsize=(6,3))\n",
    "plt.subplot(1,2,1)\n",
    "plot_image(i, predictions[i], test_labels, test_images)\n",
    "plt.subplot(1,2,2)\n",
    "plot_value_array(i, predictions[i],  test_labels)\n",
    "plt.show()\n",
    "\n",
    "i = 12\n",
    "plt.figure(figsize=(6,3))\n",
    "plt.subplot(1,2,1)\n",
    "plot_image(i, predictions[i], test_labels, test_images)\n",
    "plt.subplot(1,2,2)\n",
    "plot_value_array(i, predictions[i],  test_labels)\n",
    "plt.show()\n",
    "\n",
    "# Plot the first X test images, their predicted labels, and the true labels.\n",
    "# Color correct predictions in blue and incorrect predictions in red.\n",
    "num_rows = 5\n",
    "num_cols = 3\n",
    "num_images = num_rows*num_cols\n",
    "plt.figure(figsize=(2*2*num_cols, 2*num_rows))\n",
    "for i in range(num_images):\n",
    "  plt.subplot(num_rows, 2*num_cols, 2*i+1)\n",
    "  plot_image(i, predictions[i], test_labels, test_images)\n",
    "  plt.subplot(num_rows, 2*num_cols, 2*i+2)\n",
    "  plot_value_array(i, predictions[i], test_labels)\n",
    "plt.tight_layout()\n",
    "plt.show()"
   ]
  },
  {
   "cell_type": "markdown",
   "metadata": {},
   "outputs": [],
   "source": [
    "## 11. Save the model"
   ]
  },
  {
   "cell_type": "code",
   "metadata": {},
   "outputs": [],
   "source": [
    "# Save model\n",
    "print(\"Saving model to disk…… \\n\")\n",
    "mp = \"./homework/CNN.h5\"\n",
    "model.save(mp)\n",
    "print(\"Complete!\\n\")"
   ]
  },
  {
   "cell_type": "markdown",
   "metadata": {},
   "outputs": [],
   "source": [
    "## 12. Exploring the model:"
   ]
  },
  {
   "cell_type": "code",
   "metadata": {},
   "outputs": [],
   "source": [
    "# Path of model\n",
    "MODEL_PATH = './homework/CNN.h5'\n",
    "\n",
    "# Reading model\n",
    "print(\"Reading model:\")\n",
    "with h5py.File(MODEL_PATH, 'r') as f:\n",
    "    conv2d_2 = f['/model_weights/conv2d_2/conv2d_2']\n",
    "    conv2d_2_bias = conv2d_2['bias:0'][:]\n",
    "    conv2d_2_kernel = conv2d_2['kernel:0'][:]\n",
    "\n",
    "    conv2d_3 = f['/model_weights/conv2d_3/conv2d_3']\n",
    "    conv2d_3_bias = conv2d_3['bias:0'][:]\n",
    "    conv2d_3_kernel = conv2d_3['kernel:0'][:]\n",
    "\n",
    "    dense_2 = f['/model_weights/dense_2/dense_2']\n",
    "    dense_2_bias = dense_2['bias:0'][0]\n",
    "    dense_2_kernel = dense_2['kernel:0'][:]\n",
    "\n",
    "    dense_3 = f['/model_weights/dense_3/dense_3']\n",
    "    dense_3_bias = dense_3['bias:0'][0]\n",
    "    dense_3_kernel = dense_3['kernel:0'][:]\n",
    "\n",
    "print(\"Matrix of conv2d_2_bias：\\n%s\\n\"%conv2d_2_bias)\n",
    "print(\"Matrix of conv2d_2_kernel：\\n%s\\n\"%conv2d_2_kernel)\n",
    "print(\"Matrix of conv2d_3_bias：\\n%s\\n\"%conv2d_3_bias)\n",
    "print(\"Matrix of conv2d_3_kernel：\\n%s\\n\"%conv2d_3_kernel)\n",
    "print(\"Matrix of dense_2_bias：\\n%s\\n\"%dense_2_bias)\n",
    "print(\"Matrix of dense_2_kernel：\\n%s\\n\"%dense_2_kernel)\n",
    "print(\"Matrix of dense_3_bias：\\n%s\\n\"%dense_3_bias)\n",
    "print(\"Matrix of dense_3_kernel：\\n%s\\n\"%dense_3_kernel)"
   ]
  }
 ]
}