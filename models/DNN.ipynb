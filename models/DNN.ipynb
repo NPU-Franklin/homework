{
 "nbformat": 4,
 "nbformat_minor": 2,
 "metadata": {
  "language_info": {
   "name": "python",
   "codemirror_mode": {
    "name": "ipython",
    "version": 3
   },
   "version": "3.7.4"
  },
  "orig_nbformat": 2,
  "file_extension": ".py",
  "mimetype": "text/x-python",
  "name": "python",
  "npconvert_exporter": "python",
  "pygments_lexer": "ipython3",
  "version": 3
 },
 "cells": [
  {
   "cell_type": "markdown",
   "metadata": {},
   "outputs": [],
   "source": [
    "# Basic Classification With DNN\n",
    "\n",
    "To classify 10 kinds of different clothes with DNN"
   ]
  },
  {
   "cell_type": "markdown",
   "metadata": {},
   "outputs": [],
   "source": [
    "## 1. Import necessary libraries"
   ]
  },
  {
   "cell_type": "code",
   "execution_count": 1,
   "metadata": {},
   "outputs": [
    {
     "name": "stdout",
     "output_type": "stream",
     "text": "Importing……\nImport complete!\n\nChecking Tensorflow version:\n2.0.0\n"
    }
   ],
   "source": [
    "print(\"Importing……\")\n",
    "\n",
    "# import Tensorflow and tf.keras\n",
    "import tensorflow as tf\n",
    "from tensorflow import keras\n",
    "from tensorflow.python.keras.layers.normalization import BatchNormalization\n",
    "from tensorflow.python.keras.layers.convolutional import Conv2D, AveragePooling2D, MaxPooling2D, ZeroPadding2D\n",
    "from tensorflow.python.keras.layers.core import Activation, Flatten, Dense, Dropout\n",
    "from tensorflow.python.keras.layers import Input, add\n",
    "from tensorflow.python.keras.models import Model\n",
    "from tensorflow.python.keras.regularizers import l2\n",
    "from tensorflow.python.keras.initializers import glorot_uniform\n",
    "from tensorflow.python.keras.utils.vis_utils import plot_model\n",
    "\n",
    "# Helper libraries\n",
    "import numpy as np\n",
    "import matplotlib.pyplot as plt\n",
    "import h5py\n",
    "\n",
    "print(\"Import complete!\\n\")\n",
    "print(\"Checking Tensorflow version:\")\n",
    "# Check Tensorflow version\n",
    "print(tf.__version__)"
   ]
  },
  {
   "cell_type": "markdown",
   "metadata": {},
   "outputs": [],
   "source": [
    "## 2. Load MNIST data"
   ]
  },
  {
   "cell_type": "code",
   "execution_count": 2,
   "metadata": {},
   "outputs": [
    {
     "name": "stdout",
     "output_type": "stream",
     "text": "Loading train and test data……\n\nLoading complete!\n"
    }
   ],
   "source": [
    "# import the Fashion MNIST dataset\n",
    "print(\"Loading train and test data……\\n\")\n",
    "fashion_mnist = keras.datasets.fashion_mnist\n",
    "\n",
    "(train_images, train_labels), (test_images, test_labels) = fashion_mnist.load_data()\n",
    "print(\"Loading complete!\")"
   ]
  },
  {
   "cell_type": "markdown",
   "metadata": {},
   "outputs": [],
   "source": [
    "## 3. Preprocessing"
   ]
  },
  {
   "cell_type": "code",
   "execution_count": 3,
   "metadata": {},
   "outputs": [
    {
     "name": "stdout",
     "output_type": "stream",
     "text": "Scaling the feature.\n"
    }
   ],
   "source": [
    "# Feature scaling\n",
    "print(\"Scaling the feature.\")\n",
    "train_images = train_images / 255.0\n",
    "\n",
    "test_images = test_images / 255.0"
   ]
  },
  {
   "cell_type": "markdown",
   "metadata": {},
   "outputs": [],
   "source": [
    "## 4. Build the training model"
   ]
  },
  {
   "cell_type": "code",
   "execution_count": 4,
   "metadata": {},
   "outputs": [
    {
     "name": "stdout",
     "output_type": "stream",
     "text": "Start to build the model……\n\nBuild complete!\n\nSummary of the model:\nModel: \"sequential\"\n_________________________________________________________________\nLayer (type)                 Output Shape              Param #   \n=================================================================\nflatten (Flatten)            (None, 784)               0         \n_________________________________________________________________\ndense (Dense)                (None, 128)               100480    \n_________________________________________________________________\ndense_1 (Dense)              (None, 128)               16512     \n_________________________________________________________________\ndense_2 (Dense)              (None, 10)                1290      \n=================================================================\nTotal params: 118,282\nTrainable params: 118,282\nNon-trainable params: 0\n_________________________________________________________________\nNone\n"
    }
   ],
   "source": [
    "# Build the training model(DNN)\n",
    "print(\"Start to build the model……\\n\")\n",
    "model = keras.Sequential()\n",
    "\n",
    "model.add(Flatten(input_shape=(28, 28)))\n",
    "\n",
    "model.add(Dense(128, activation='relu'))\n",
    "model.add(Dense(128, activation='relu'))\n",
    "\n",
    "model.add(Dense(10, activation='softmax'))\n",
    "\n",
    "print(\"Build complete!\\n\")\n",
    "# look through the summary of the model\n",
    "print(\"Summary of the model:\")\n",
    "print(model.summary())"
   ]
  },
  {
   "cell_type": "markdown",
   "metadata": {},
   "outputs": [],
   "source": [
    "## 5. Compile the model"
   ]
  },
  {
   "cell_type": "code",
   "execution_count": 5,
   "metadata": {},
   "outputs": [
    {
     "name": "stdout",
     "output_type": "stream",
     "text": "Compiling……\nCompiling complete!\n"
    }
   ],
   "source": [
    "print(\"Compiling……\")\n",
    "model.compile(\n",
    "    optimizer='adam',\n",
    "    loss='sparse_categorical_crossentropy',\n",
    "    metrics=['accuracy']\n",
    ")\n",
    "print(\"Compiling complete!\")"
   ]
  },
  {
   "cell_type": "markdown",
   "metadata": {},
   "outputs": [],
   "source": [
    "## 6. Train the model"
   ]
  },
  {
   "cell_type": "code",
   "execution_count": 6,
   "metadata": {},
   "outputs": [
    {
     "name": "stdout",
     "output_type": "stream",
     "text": "Training:\nTrain on 60000 samples\nEpoch 1/35\n60000/60000 [==============================] - 7s 110us/sample - loss: 0.4898 - accuracy: 0.8235\nEpoch 2/35\n60000/60000 [==============================] - 5s 88us/sample - loss: 0.3660 - accuracy: 0.8656\nEpoch 3/35\n60000/60000 [==============================] - 5s 79us/sample - loss: 0.3297 - accuracy: 0.8787\nEpoch 4/35\n60000/60000 [==============================] - 5s 85us/sample - loss: 0.3076 - accuracy: 0.8865\nEpoch 5/35\n60000/60000 [==============================] - 5s 82us/sample - loss: 0.2909 - accuracy: 0.8924\nEpoch 6/35\n60000/60000 [==============================] - 5s 80us/sample - loss: 0.2748 - accuracy: 0.8968\nEpoch 7/35\n60000/60000 [==============================] - 5s 82us/sample - loss: 0.2616 - accuracy: 0.9021\nEpoch 8/35\n60000/60000 [==============================] - 5s 81us/sample - loss: 0.2510 - accuracy: 0.9062\nEpoch 9/35\n60000/60000 [==============================] - 5s 81us/sample - loss: 0.2380 - accuracy: 0.9099\nEpoch 10/35\n60000/60000 [==============================] - 5s 82us/sample - loss: 0.2324 - accuracy: 0.9129\nEpoch 11/35\n60000/60000 [==============================] - 5s 81us/sample - loss: 0.2231 - accuracy: 0.9150\nEpoch 12/35\n60000/60000 [==============================] - 5s 84us/sample - loss: 0.2153 - accuracy: 0.9176\nEpoch 13/35\n60000/60000 [==============================] - 5s 82us/sample - loss: 0.2083 - accuracy: 0.9213\nEpoch 14/35\n60000/60000 [==============================] - 5s 84us/sample - loss: 0.2021 - accuracy: 0.9230\nEpoch 15/35\n60000/60000 [==============================] - 5s 82us/sample - loss: 0.1955 - accuracy: 0.9263\nEpoch 16/35\n60000/60000 [==============================] - 5s 84us/sample - loss: 0.1885 - accuracy: 0.9280\nEpoch 17/35\n60000/60000 [==============================] - 5s 81us/sample - loss: 0.1855 - accuracy: 0.9292\nEpoch 18/35\n60000/60000 [==============================] - 5s 84us/sample - loss: 0.1776 - accuracy: 0.9316\nEpoch 19/35\n60000/60000 [==============================] - 5s 81us/sample - loss: 0.1726 - accuracy: 0.9342\nEpoch 20/35\n60000/60000 [==============================] - 5s 84us/sample - loss: 0.1680 - accuracy: 0.9358\nEpoch 21/35\n60000/60000 [==============================] - 5s 82us/sample - loss: 0.1635 - accuracy: 0.9372\nEpoch 22/35\n60000/60000 [==============================] - 5s 82us/sample - loss: 0.1593 - accuracy: 0.9385\nEpoch 23/35\n60000/60000 [==============================] - 5s 85us/sample - loss: 0.1569 - accuracy: 0.9402\nEpoch 24/35\n60000/60000 [==============================] - 5s 86us/sample - loss: 0.1531 - accuracy: 0.9412\nEpoch 25/35\n60000/60000 [==============================] - 5s 86us/sample - loss: 0.1487 - accuracy: 0.9430\nEpoch 26/35\n60000/60000 [==============================] - 6s 100us/sample - loss: 0.1431 - accuracy: 0.9451\nEpoch 27/35\n60000/60000 [==============================] - 9s 144us/sample - loss: 0.1392 - accuracy: 0.9473\nEpoch 28/35\n60000/60000 [==============================] - 5s 85us/sample - loss: 0.1375 - accuracy: 0.9464\nEpoch 29/35\n60000/60000 [==============================] - 6s 93us/sample - loss: 0.1351 - accuracy: 0.9481\nEpoch 30/35\n60000/60000 [==============================] - 6s 96us/sample - loss: 0.1308 - accuracy: 0.9492\nEpoch 31/35\n60000/60000 [==============================] - 5s 88us/sample - loss: 0.1299 - accuracy: 0.9495\nEpoch 32/35\n60000/60000 [==============================] - 7s 116us/sample - loss: 0.1267 - accuracy: 0.9519\nEpoch 33/35\n60000/60000 [==============================] - 6s 93us/sample - loss: 0.1234 - accuracy: 0.9524\nEpoch 34/35\n60000/60000 [==============================] - 6s 92us/sample - loss: 0.1186 - accuracy: 0.9540\nEpoch 35/35\n60000/60000 [==============================] - 6s 92us/sample - loss: 0.1179 - accuracy: 0.9547\nTraining complete!\n"
    }
   ],
   "source": [
    "# Train the model\n",
    "print(\"Training:\")\n",
    "model.fit(train_images, train_labels, epochs=50)\n",
    "print(\"Training complete!\")"
   ]
  },
  {
   "cell_type": "markdown",
   "metadata": {},
   "outputs": [],
   "source": [
    "## 7. Evaluate the model"
   ]
  },
  {
   "cell_type": "code",
   "execution_count": 7,
   "metadata": {},
   "outputs": [
    {
     "name": "stdout",
     "output_type": "stream",
     "text": "Evaluating:\n10000/1 - 1s - loss: 0.4058 - accuracy: 0.8855\n\nTest loss: 0.5237712634660303\n\nTest accuracy: 0.8855\n"
    }
   ],
   "source": [
    "# Evaluate accuracy\n",
    "print(\"Evaluating:\")\n",
    "test_loss, test_acc = model.evaluate(test_images, test_labels, verbose=2)\n",
    "\n",
    "print(\"\\nTest loss:\", test_loss)\n",
    "print('\\nTest accuracy:', test_acc)"
   ]
  },
  {
   "cell_type": "markdown",
   "metadata": {},
   "outputs": [],
   "source": [
    "## 8. Save the model"
   ]
  },
  {
   "cell_type": "code",
   "execution_count": 8,
   "metadata": {},
   "outputs": [
    {
     "name": "stdout",
     "output_type": "stream",
     "text": "Saving model to disk…… \n\nComplete!\n\n"
    }
   ],
   "source": [
    "# Save model\n",
    "print(\"Saving model to disk…… \\n\")\n",
    "mp = \"./DNN.h5\"\n",
    "model.save(mp)\n",
    "print(\"Complete!\\n\")"
   ]
  },
  {
   "cell_type": "markdown",
   "metadata": {},
   "outputs": [],
   "source": [
    "## 9. Exploring the model"
   ]
  },
  {
   "cell_type": "code",
   "execution_count": 9,
   "metadata": {},
   "outputs": [
    {
     "name": "stdout",
     "output_type": "stream",
     "text": "Reading model:\nMatrix of dense_0_bias：\n-0.30588293\n\nMatrix of dense_0_kernel：\n[[-0.06126328 -0.26420972 -0.7573033  ...  0.06686068 -0.03709538\n  -0.6339201 ]\n [-0.6535571   0.22620735  0.33299172 ...  0.04060664  0.22744986\n   0.11327054]\n [-0.46511912 -0.00742143  1.039257   ... -0.00286163 -0.01239439\n   0.51605195]\n ...\n [ 0.30919203  0.44670492  0.05175085 ...  0.0160092   0.37345383\n  -0.25204143]\n [ 0.41380376  1.7785205   0.09842958 ... -0.04649356 -0.3217475\n   0.16944611]\n [ 0.33247164  0.23127109  0.09589886 ... -0.08752138 -0.16429846\n   0.01183998]]\n\nMatrix of dense_1_bias：\n0.87591803\n\nMatrix of dense_1_kernel：\n[[-0.11189537 -0.14782362 -0.03775683 ... -0.37657243 -0.15672597\n   0.4255943 ]\n [-0.03500427 -0.42786273 -0.26593953 ...  0.19205493 -0.04159217\n   0.27027848]\n [-0.43962175 -0.301487   -0.03702918 ... -0.3811503   0.02160005\n   0.1292361 ]\n ...\n [ 0.13697617  0.11688976  0.14373423 ...  0.10198344  0.09362523\n  -0.08248947]\n [-0.54632384  0.22889355  0.39851275 ... -0.03651331  0.11943351\n   0.05853718]\n [-0.20173103 -0.05635489  0.44049543 ... -0.6322449  -0.14485526\n   0.01435014]]\n\nMatrix of dense_2_bias：\n-0.24063006\n\nMatrix of dense_2_kernel：\n[[-0.2905315   0.18163744  0.10948335 ... -0.85392493  0.2862514\n  -0.7810311 ]\n [-0.28543276  0.7495364  -0.9550316  ...  0.38929296 -0.20917031\n  -0.16632475]\n [-0.40469775  0.6585205  -0.2385612  ... -0.26557422  0.0747679\n   0.16180387]\n ...\n [-0.2592818  -0.71552384  0.11143947 ... -1.01999    -0.9581903\n  -0.52558005]\n [ 0.09278582 -0.27173924 -0.03522171 ... -0.36852288 -0.05639296\n   0.05004168]\n [ 0.09324967 -0.02119283  0.01419577 ... -0.8259812  -0.25554535\n  -0.52657366]]\n\n"
    }
   ],
   "source": [
    "# Path of model\n",
    "MODEL_PATH = './DNN.h5'\n",
    "\n",
    "# Reading model\n",
    "print(\"Reading model:\")\n",
    "with h5py.File(MODEL_PATH, 'r') as f:\n",
    "    dense = f['/model_weights/dense/dense']\n",
    "    dense_bias = dense['bias:0'][0]\n",
    "    dense_kernel = dense['kernel:0'][:]\n",
    "\n",
    "    dense_1 = f['/model_weights/dense_1/dense_1']\n",
    "    dense_1_bias = dense_1['bias:0'][0]\n",
    "    dense_1_kernel = dense_1['kernel:0'][:]\n",
    "\n",
    "    dense_2 = f['/model_weights/dense_2/dense_2']\n",
    "    dense_2_bias = dense_2['bias:0'][0]\n",
    "    dense_2_kernel = dense_2['kernel:0'][:]\n",
    "\n",
    "print(\"Matrix of dense_0_bias：\\n%s\\n\"%dense_bias)\n",
    "print(\"Matrix of dense_0_kernel：\\n%s\\n\"%dense_kernel)\n",
    "print(\"Matrix of dense_1_bias：\\n%s\\n\"%dense_1_bias)\n",
    "print(\"Matrix of dense_1_kernel：\\n%s\\n\"%dense_1_kernel)\n",
    "print(\"Matrix of dense_2_bias：\\n%s\\n\"%dense_2_bias)\n",
    "print(\"Matrix of dense_2_kernel：\\n%s\\n\"%dense_2_kernel)"
   ]
  },
  {
   "cell_type": "markdown",
   "metadata": {},
   "outputs": [],
   "source": [
    "## 10. Save the image of the model"
   ]
  },
  {
   "cell_type": "code",
   "execution_count": 10,
   "metadata": {},
   "outputs": [
    {
     "data": {
      "image/png": "[encoded data removed]",
      "text/plain": "<IPython.core.display.Image object>"
     },
     "execution_count": 10,
     "metadata": {},
     "output_type": "execute_result"
    }
   ],
   "source": [
    "plot_model(model, 'DNN_model.png', show_shapes=True)"
   ]
  }
 ]
}